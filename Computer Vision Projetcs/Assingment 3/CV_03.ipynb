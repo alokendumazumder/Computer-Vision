{
  "nbformat": 4,
  "nbformat_minor": 0,
  "metadata": {
    "colab": {
      "name": "CV_2019pcs0003_Assignment3",
      "provenance": []
    },
    "kernelspec": {
      "name": "python3",
      "display_name": "Python 3"
    },
    "accelerator": "TPU"
  },
  "cells": [
    {
      "cell_type": "code",
      "metadata": {
        "id": "ogGfD301ETbJ"
      },
      "source": [
        "\n",
        "from keras.datasets import mnist\n",
        "import numpy as np\n",
        "import pandas as pd\n",
        "import cv2\n",
        "import matplotlib.pyplot as plt\n"
      ],
      "execution_count": 2,
      "outputs": []
    },
    {
      "cell_type": "code",
      "metadata": {
        "id": "IOs1CjEpEWcg",
        "outputId": "de57793e-cc70-42fa-f994-a5663f9063f4",
        "colab": {
          "base_uri": "https://localhost:8080/"
        }
      },
      "source": [
        "pip install opencv-python==3.4.2.16"
      ],
      "execution_count": 3,
      "outputs": [
        {
          "output_type": "stream",
          "text": [
            "Requirement already satisfied: opencv-python==3.4.2.16 in /usr/local/lib/python3.6/dist-packages (3.4.2.16)\n",
            "Requirement already satisfied: numpy>=1.11.3 in /usr/local/lib/python3.6/dist-packages (from opencv-python==3.4.2.16) (1.18.5)\n"
          ],
          "name": "stdout"
        }
      ]
    },
    {
      "cell_type": "code",
      "metadata": {
        "id": "stQLi_RUEeO1",
        "outputId": "813ad6eb-cbb5-4e14-8b9d-28e7de42fd99",
        "colab": {
          "base_uri": "https://localhost:8080/"
        }
      },
      "source": [
        "pip install opencv-contrib-python==3.4.2.16"
      ],
      "execution_count": 4,
      "outputs": [
        {
          "output_type": "stream",
          "text": [
            "Requirement already satisfied: opencv-contrib-python==3.4.2.16 in /usr/local/lib/python3.6/dist-packages (3.4.2.16)\n",
            "Requirement already satisfied: numpy>=1.11.3 in /usr/local/lib/python3.6/dist-packages (from opencv-contrib-python==3.4.2.16) (1.18.5)\n"
          ],
          "name": "stdout"
        }
      ]
    },
    {
      "cell_type": "code",
      "metadata": {
        "id": "ZLjI0VJoEg4C"
      },
      "source": [
        "(x_train, y_train), (x_test, y_test) = mnist.load_data()"
      ],
      "execution_count": 5,
      "outputs": []
    },
    {
      "cell_type": "code",
      "metadata": {
        "id": "mKp8qDoAEjw9"
      },
      "source": [
        ""
      ],
      "execution_count": 4,
      "outputs": []
    },
    {
      "cell_type": "code",
      "metadata": {
        "id": "aQIJNFMyEwlc"
      },
      "source": [
        "#edge extraction suing canny detector\n",
        "def pre_processing(image):\n",
        "  image = cv2.GaussianBlur(image.astype(np.uint8),(5,5),0)\n",
        "  edge = cv2.Canny(image,50,50)\n",
        "  return edge"
      ],
      "execution_count": 6,
      "outputs": []
    },
    {
      "cell_type": "code",
      "metadata": {
        "id": "df-maM5lEy9X",
        "outputId": "e1962237-4a7d-4f8f-b11a-d43e1fcf7b87",
        "colab": {
          "base_uri": "https://localhost:8080/",
          "height": 229
        }
      },
      "source": [
        "sift = cv2.xfeatures2d.SIFT_create()\n",
        "kp = sift.detect(edge,None)\n",
        "kp, des = sift.compute(edge, kp)\n",
        "img2 = cv2.drawKeypoints(edge,kp,color=(0,255,0),outImage=None, flags=0)\n",
        "plt.imshow(img2)\n",
        "plt.show()"
      ],
      "execution_count": 6,
      "outputs": [
        {
          "output_type": "error",
          "ename": "NameError",
          "evalue": "ignored",
          "traceback": [
            "\u001b[0;31m---------------------------------------------------------------------------\u001b[0m",
            "\u001b[0;31mNameError\u001b[0m                                 Traceback (most recent call last)",
            "\u001b[0;32m<ipython-input-6-b82f4d9a205e>\u001b[0m in \u001b[0;36m<module>\u001b[0;34m()\u001b[0m\n\u001b[1;32m      1\u001b[0m \u001b[0msift\u001b[0m \u001b[0;34m=\u001b[0m \u001b[0mcv2\u001b[0m\u001b[0;34m.\u001b[0m\u001b[0mxfeatures2d\u001b[0m\u001b[0;34m.\u001b[0m\u001b[0mSIFT_create\u001b[0m\u001b[0;34m(\u001b[0m\u001b[0;34m)\u001b[0m\u001b[0;34m\u001b[0m\u001b[0;34m\u001b[0m\u001b[0m\n\u001b[0;32m----> 2\u001b[0;31m \u001b[0mkp\u001b[0m \u001b[0;34m=\u001b[0m \u001b[0msift\u001b[0m\u001b[0;34m.\u001b[0m\u001b[0mdetect\u001b[0m\u001b[0;34m(\u001b[0m\u001b[0medge\u001b[0m\u001b[0;34m,\u001b[0m\u001b[0;32mNone\u001b[0m\u001b[0;34m)\u001b[0m\u001b[0;34m\u001b[0m\u001b[0;34m\u001b[0m\u001b[0m\n\u001b[0m\u001b[1;32m      3\u001b[0m \u001b[0mkp\u001b[0m\u001b[0;34m,\u001b[0m \u001b[0mdes\u001b[0m \u001b[0;34m=\u001b[0m \u001b[0msift\u001b[0m\u001b[0;34m.\u001b[0m\u001b[0mcompute\u001b[0m\u001b[0;34m(\u001b[0m\u001b[0medge\u001b[0m\u001b[0;34m,\u001b[0m \u001b[0mkp\u001b[0m\u001b[0;34m)\u001b[0m\u001b[0;34m\u001b[0m\u001b[0;34m\u001b[0m\u001b[0m\n\u001b[1;32m      4\u001b[0m \u001b[0mimg2\u001b[0m \u001b[0;34m=\u001b[0m \u001b[0mcv2\u001b[0m\u001b[0;34m.\u001b[0m\u001b[0mdrawKeypoints\u001b[0m\u001b[0;34m(\u001b[0m\u001b[0medge\u001b[0m\u001b[0;34m,\u001b[0m\u001b[0mkp\u001b[0m\u001b[0;34m,\u001b[0m\u001b[0mcolor\u001b[0m\u001b[0;34m=\u001b[0m\u001b[0;34m(\u001b[0m\u001b[0;36m0\u001b[0m\u001b[0;34m,\u001b[0m\u001b[0;36m255\u001b[0m\u001b[0;34m,\u001b[0m\u001b[0;36m0\u001b[0m\u001b[0;34m)\u001b[0m\u001b[0;34m,\u001b[0m\u001b[0moutImage\u001b[0m\u001b[0;34m=\u001b[0m\u001b[0;32mNone\u001b[0m\u001b[0;34m,\u001b[0m \u001b[0mflags\u001b[0m\u001b[0;34m=\u001b[0m\u001b[0;36m0\u001b[0m\u001b[0;34m)\u001b[0m\u001b[0;34m\u001b[0m\u001b[0;34m\u001b[0m\u001b[0m\n\u001b[1;32m      5\u001b[0m \u001b[0mplt\u001b[0m\u001b[0;34m.\u001b[0m\u001b[0mimshow\u001b[0m\u001b[0;34m(\u001b[0m\u001b[0mimg2\u001b[0m\u001b[0;34m)\u001b[0m\u001b[0;34m\u001b[0m\u001b[0;34m\u001b[0m\u001b[0m\n",
            "\u001b[0;31mNameError\u001b[0m: name 'edge' is not defined"
          ]
        }
      ]
    },
    {
      "cell_type": "code",
      "metadata": {
        "id": "lbiuMztjE02c"
      },
      "source": [
        "#SIFT extraction\n",
        "\n",
        "sift = cv2.xfeatures2d.SIFT_create()\n",
        "temp = []\n",
        "temp_y=[]\n",
        "for j in range(x_train.shape[0]):\n",
        "    e1 = pre_processing(x_train[j].astype(np.uint8))\n",
        "    kx, des = sift.detectAndCompute(e1, None)\n",
        "    if (des is not None):\n",
        "      temp.append(des)\n",
        "      temp_y.append(y_train[j])"
      ],
      "execution_count": 7,
      "outputs": []
    },
    {
      "cell_type": "code",
      "metadata": {
        "id": "5-3vb4XJE6eP"
      },
      "source": [
        "sift = cv2.xfeatures2d.SIFT_create()\n",
        "test = []\n",
        "test_y=[]\n",
        "for k in range(x_test.shape[0]):\n",
        "    e1 = pre_processing(x_test[k].astype(np.uint8))\n",
        "    kx, des = sift.detectAndCompute(e1, None)\n",
        "    if (des is not None):\n",
        "      test.append(des)\n",
        "      test_y.append(y_test[k])"
      ],
      "execution_count": 8,
      "outputs": []
    },
    {
      "cell_type": "code",
      "metadata": {
        "id": "1gRwFpzRFGgU"
      },
      "source": [
        "\n",
        "train_desc = []\n",
        "for p in temp:\n",
        "  for d in p:\n",
        "    train_desc.append(d)"
      ],
      "execution_count": 11,
      "outputs": []
    },
    {
      "cell_type": "code",
      "metadata": {
        "id": "XXHwL-pdFJ0m"
      },
      "source": [
        "test_desc = []\n",
        "for q in test:\n",
        "  for d in q:\n",
        "    test_desc.append(d)"
      ],
      "execution_count": 12,
      "outputs": []
    },
    {
      "cell_type": "code",
      "metadata": {
        "id": "WG1WEsPCFN2I"
      },
      "source": [
        "#converting into np array\n",
        "train_desc = np.array(train_desc)\n",
        "\n",
        "test_desc = np.array(test_desc)"
      ],
      "execution_count": 13,
      "outputs": []
    },
    {
      "cell_type": "code",
      "metadata": {
        "id": "Pvnw9qKrFRx4",
        "outputId": "e593d5ee-1778-4549-a352-7a92f9c59223",
        "colab": {
          "base_uri": "https://localhost:8080/"
        }
      },
      "source": [
        "print(train_desc.shape)\n",
        "print(test_desc.shape)"
      ],
      "execution_count": 14,
      "outputs": [
        {
          "output_type": "stream",
          "text": [
            "(176574, 128)\n",
            "(29580, 128)\n"
          ],
          "name": "stdout"
        }
      ]
    },
    {
      "cell_type": "code",
      "metadata": {
        "id": "l5dvs2PjFYQ6",
        "outputId": "89d469d6-2fc5-478d-e6d7-f3adc6bab94c",
        "colab": {
          "base_uri": "https://localhost:8080/"
        }
      },
      "source": [
        "kclusters = 300\n",
        "from sklearn.cluster import MiniBatchKMeans\n",
        "cls = MiniBatchKMeans(kclusters)\n",
        "\n",
        "\n",
        "cls.fit(train_desc)"
      ],
      "execution_count": 15,
      "outputs": [
        {
          "output_type": "execute_result",
          "data": {
            "text/plain": [
              "MiniBatchKMeans(batch_size=100, compute_labels=True, init='k-means++',\n",
              "                init_size=None, max_iter=100, max_no_improvement=10,\n",
              "                n_clusters=300, n_init=3, random_state=None,\n",
              "                reassignment_ratio=0.01, tol=0.0, verbose=0)"
            ]
          },
          "metadata": {
            "tags": []
          },
          "execution_count": 15
        }
      ]
    },
    {
      "cell_type": "code",
      "metadata": {
        "id": "cEPPgBQ7Fbsd"
      },
      "source": [
        "#hist of features of each image\n",
        "pred = []\n",
        "for v in temp:\n",
        "    pred.append(cls.predict(v))\n",
        "\n",
        "# Creating feature vector for the images \n",
        "training_h = [np.bincount(feature,minlength=kclusters) for feature in pred]\n",
        "\n",
        "\n",
        "training_h = np.array(training_h)\n",
        "\n",
        "# Now we are going to make histogram of features for each image using cluster centroid found by DBSCAN\n",
        "prediction_test = []\n",
        "for v in test:\n",
        "    prediction_test.append(cls.predict(v))\n",
        "\n",
        "# Creating feature vector for the images from the predict cluster of features it is belonging to.\n",
        "testing_h = [np.bincount(feature,minlength=kclusters) for feature in prediction_test]\n",
        "\n",
        "\n",
        "testing_h = np.array(testing_h)\n",
        "\n",
        "\n",
        "# Fitting an svm model on the feature vector created for each image\n",
        "\n",
        "from sklearn.svm import SVC \n",
        "model = SVC(kernel='rbf')\n",
        "\n",
        "\n",
        "\n"
      ],
      "execution_count": 19,
      "outputs": []
    },
    {
      "cell_type": "code",
      "metadata": {
        "id": "GdZCvubWFkrb"
      },
      "source": [
        "model.fit(training_h,temp_y)\n"
      ],
      "execution_count": null,
      "outputs": []
    },
    {
      "cell_type": "code",
      "metadata": {
        "id": "QpNN7zxNF5Ix",
        "outputId": "4e801335-c4ca-48de-a53f-78c7b3879385",
        "colab": {
          "base_uri": "https://localhost:8080/",
          "height": 162
        }
      },
      "source": [
        "print(model.score(test_hist,test_y))"
      ],
      "execution_count": 1,
      "outputs": [
        {
          "output_type": "error",
          "ename": "NameError",
          "evalue": "ignored",
          "traceback": [
            "\u001b[0;31m---------------------------------------------------------------------------\u001b[0m",
            "\u001b[0;31mNameError\u001b[0m                                 Traceback (most recent call last)",
            "\u001b[0;32m<ipython-input-1-7106d6739fa8>\u001b[0m in \u001b[0;36m<module>\u001b[0;34m()\u001b[0m\n\u001b[0;32m----> 1\u001b[0;31m \u001b[0mprint\u001b[0m\u001b[0;34m(\u001b[0m\u001b[0mclf\u001b[0m\u001b[0;34m.\u001b[0m\u001b[0mscore\u001b[0m\u001b[0;34m(\u001b[0m\u001b[0mtest_hist\u001b[0m\u001b[0;34m,\u001b[0m\u001b[0mtest_y\u001b[0m\u001b[0;34m)\u001b[0m\u001b[0;34m*\u001b[0m\u001b[0;36m100\u001b[0m\u001b[0;34m)\u001b[0m\u001b[0;34m\u001b[0m\u001b[0;34m\u001b[0m\u001b[0m\n\u001b[0m",
            "\u001b[0;31mNameError\u001b[0m: name 'clf' is not defined"
          ]
        }
      ]
    },
    {
      "cell_type": "code",
      "metadata": {
        "id": "wJGjtdfKNPo_"
      },
      "source": [
        ""
      ],
      "execution_count": null,
      "outputs": []
    }
  ]
}